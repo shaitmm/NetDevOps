{
 "cells": [
  {
   "cell_type": "markdown",
   "metadata": {},
   "source": [
    "## 1.0 通过SSH登录设备\n",
    "通过SSH 登录设备，并通过ssh 获取设备的一些信息。\n",
    "\n",
    "这次使用的lib 为 [netmiko]。(https://github.com/ktbyers/netmiko)\n",
    "\n",
    "这是一个开源的python 第三方库。目前支持大量的网络设备。其就是操作网络设备而开发的第三方库。"
   ]
  },
  {
   "cell_type": "markdown",
   "metadata": {},
   "source": [
    "## 1.1 登录SSH后，获取设备的接口信息"
   ]
  },
  {
   "cell_type": "code",
   "execution_count": 1,
   "metadata": {},
   "outputs": [],
   "source": [
    "from netmiko import ConnectHandler"
   ]
  },
  {
   "cell_type": "code",
   "execution_count": 2,
   "metadata": {},
   "outputs": [
    {
     "name": "stdout",
     "output_type": "stream",
     "text": [
      "\n",
      "Thu Aug  9 23:59:21.209 UTC\n",
      "\n",
      "Interface                      IP-Address      Status          Protocol Vrf-Name\n",
      "MgmtEth0/0/CPU0/0              172.20.3.102    Up              Up       default \n",
      "GigabitEthernet0/0/0/0         unassigned      Shutdown        Down     default \n",
      "GigabitEthernet0/0/0/1         unassigned      Up              Up       default \n",
      "GigabitEthernet0/0/0/2         unassigned      Shutdown        Down     default \n",
      "GigabitEthernet0/0/0/3         unassigned      Shutdown        Down     default \n",
      "GigabitEthernet0/0/0/4         unassigned      Shutdown        Down     default \n",
      "GigabitEthernet0/0/0/5         unassigned      Shutdown        Down     default \n",
      "GigabitEthernet0/0/0/6         unassigned      Shutdown        Down     default \n",
      "GigabitEthernet0/0/0/7         unassigned      Shutdown        Down     default \n",
      "GigabitEthernet0/0/0/8         unassigned      Shutdown        Down     default \n",
      "GigabitEthernet0/0/0/9         unassigned      Shutdown        Down     default \n",
      "GigabitEthernet0/0/0/10        unassigned      Shutdown        Down     default \n"
     ]
    }
   ],
   "source": [
    "iosxr3 = {\n",
    "    'device_type': 'cisco_xr',\n",
    "    'ip':   '172.20.3.102',\n",
    "    'username': 'admin',\n",
    "    'password': 'admin',\n",
    "    'port' : 22          # optional, defaults to 22    \n",
    "}\n",
    "\n",
    "net_connect = ConnectHandler(**iosxr3)\n",
    "\n",
    "output = net_connect.send_command('show ip int brief')\n",
    "print(output)"
   ]
  },
  {
   "cell_type": "markdown",
   "metadata": {},
   "source": [
    "## 1.2 修改接口的IP地址信息"
   ]
  },
  {
   "cell_type": "code",
   "execution_count": 3,
   "metadata": {},
   "outputs": [
    {
     "name": "stdout",
     "output_type": "stream",
     "text": [
      "config term\n",
      "\n",
      "Thu Aug  9 05:13:33.476 UTC\n",
      "RP/0/0/CPU0:xrv2(config)#interface GigabitEthernet0/0/0/1\n",
      "\n",
      "RP/0/0/CPU0:xrv2(config-if)#no shutdown\n",
      "\n",
      "RP/0/0/CPU0:xrv2(config-if)#commit\n",
      "\n",
      "Thu Aug  9 05:13:33.936 UTC\n",
      "RP/0/0/CPU0:xrv2(config-if)#end\n",
      "\n",
      "RP/0/0/CPU0:xrv2#\n"
     ]
    }
   ],
   "source": [
    "interface_cfg = [\"interface GigabitEthernet0/0/0/1\",\n",
    "                \"no shutdown\",\n",
    "                \"commit\",\n",
    "                \"end\"]\n",
    "\n",
    "output = net_connect.send_config_set(interface_cfg)\n",
    "print(output)"
   ]
  },
  {
   "cell_type": "code",
   "execution_count": null,
   "metadata": {},
   "outputs": [],
   "source": []
  }
 ],
 "metadata": {
  "kernelspec": {
   "display_name": "Python 3",
   "language": "python",
   "name": "python3"
  },
  "language_info": {
   "codemirror_mode": {
    "name": "ipython",
    "version": 3
   },
   "file_extension": ".py",
   "mimetype": "text/x-python",
   "name": "python",
   "nbconvert_exporter": "python",
   "pygments_lexer": "ipython3",
   "version": "3.5.2"
  }
 },
 "nbformat": 4,
 "nbformat_minor": 2
}
