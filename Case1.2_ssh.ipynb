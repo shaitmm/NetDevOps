{
 "cells": [
  {
   "cell_type": "markdown",
   "metadata": {},
   "source": [
    "## 1.0 通过SSH登录设备\n",
    "通过SSH 登录设备，并通过ssh 获取设备的一些信息。\n",
    "\n",
    "这次使用的lib 为 [netmiko]。(https://github.com/ktbyers/netmiko)\n",
    "\n",
    "这是一个开源的python 第三方库。目前支持大量的网络设备。其就是操作网络设备而开发的第三方库。"
   ]
  },
  {
   "cell_type": "markdown",
   "metadata": {},
   "source": [
    "## 1.1 登录SSH后，获取设备的接口信息"
   ]
  },
  {
   "cell_type": "code",
   "execution_count": 1,
   "metadata": {},
   "outputs": [],
   "source": [
    "from netmiko import ConnectHandler"
   ]
  },
  {
   "cell_type": "code",
   "execution_count": 2,
   "metadata": {},
   "outputs": [
    {
     "name": "stdout",
     "output_type": "stream",
     "text": [
      "\n",
      "Thu Aug  9 23:59:21.209 UTC\n",
      "\n",
      "Interface                      IP-Address      Status          Protocol Vrf-Name\n",
      "MgmtEth0/0/CPU0/0              172.20.3.102    Up              Up       default \n",
      "GigabitEthernet0/0/0/0         unassigned      Shutdown        Down     default \n",
      "GigabitEthernet0/0/0/1         unassigned      Up              Up       default \n",
      "GigabitEthernet0/0/0/2         unassigned      Shutdown        Down     default \n",
      "GigabitEthernet0/0/0/3         unassigned      Shutdown        Down     default \n",
      "GigabitEthernet0/0/0/4         unassigned      Shutdown        Down     default \n",
      "GigabitEthernet0/0/0/5         unassigned      Shutdown        Down     default \n",
      "GigabitEthernet0/0/0/6         unassigned      Shutdown        Down     default \n",
      "GigabitEthernet0/0/0/7         unassigned      Shutdown        Down     default \n",
      "GigabitEthernet0/0/0/8         unassigned      Shutdown        Down     default \n",
      "GigabitEthernet0/0/0/9         unassigned      Shutdown        Down     default \n",
      "GigabitEthernet0/0/0/10        unassigned      Shutdown        Down     default \n"
     ]
    }
   ],
   "source": [
    "iosxr3 = {\n",
    "    'device_type': 'cisco_xr',\n",
    "    'ip':   '172.20.3.102',\n",
    "    'username': 'admin',\n",
    "    'password': 'admin',\n",
    "    'port' : 22          # optional, defaults to 22    \n",
    "}\n",
    "\n",
    "net_connect = ConnectHandler(**iosxr3)\n",
    "\n",
    "output = net_connect.send_command('show ip int brief')\n",
    "print(output)"
   ]
  },
  {
   "cell_type": "markdown",
   "metadata": {},
   "source": [
    "## 1.2 修改接口的IP地址信息"
   ]
  },
  {
   "cell_type": "code",
   "execution_count": 3,
   "metadata": {},
   "outputs": [
    {
     "name": "stdout",
     "output_type": "stream",
     "text": [
      "config term\n",
      "\n",
      "Thu Aug  9 05:13:33.476 UTC\n",
      "RP/0/0/CPU0:xrv2(config)#interface GigabitEthernet0/0/0/1\n",
      "\n",
      "RP/0/0/CPU0:xrv2(config-if)#no shutdown\n",
      "\n",
      "RP/0/0/CPU0:xrv2(config-if)#commit\n",
      "\n",
      "Thu Aug  9 05:13:33.936 UTC\n",
      "RP/0/0/CPU0:xrv2(config-if)#end\n",
      "\n",
      "RP/0/0/CPU0:xrv2#\n"
     ]
    }
   ],
   "source": [
    "interface_cfg = [\"interface GigabitEthernet0/0/0/1\",\n",
    "                \"no shutdown\",\n",
    "                \"commit\",\n",
    "                \"end\"]\n",
    "\n",
    "output = net_connect.send_config_set(interface_cfg)\n",
    "print(output)"
   ]
  },
  {
   "cell_type": "markdown",
   "metadata": {},
   "source": [
    "## 1.3 使用jinja2模板\n",
    "Jinja2 是一个 Python 的功能齐全的模板引擎。它有完整的 unicode 支持，一个可选 的集成沙箱执行环境，被广泛使用，以 BSD 许可证授权。\n",
    "\n",
    "http://docs.jinkan.org/docs/jinja2/\n",
    "\n",
    "\n",
    "**通过配置模板，可以把模板文件和数据文件进行分离。（模板文件）+ （数据）生成最终的设备配置。**\n",
    "\n",
    "数据文件可以是相同的数据结构，这些数据的结构，可以使用yang module 进行定义。定义的yang module 用于数据的格式的校验。\n",
    "\n",
    "\n",
    "\n"
   ]
  },
  {
   "cell_type": "code",
   "execution_count": 62,
   "metadata": {},
   "outputs": [],
   "source": [
    "from jinja2 import Environment, FileSystemLoader"
   ]
  },
  {
   "cell_type": "code",
   "execution_count": 63,
   "metadata": {},
   "outputs": [],
   "source": [
    "# 加载模板的目录。在这个目录中包含了很多的配置模板文件。\n",
    "env = Environment(loader=FileSystemLoader('./config_template/', 'utf-8'))"
   ]
  },
  {
   "cell_type": "code",
   "execution_count": 64,
   "metadata": {},
   "outputs": [
    {
     "name": "stdout",
     "output_type": "stream",
     "text": [
      "['.ipynb_checkpoints/xrv_hostname-checkpoint.j2', '.ipynb_checkpoints/xrv_interface-checkpoint.j2', 'vios_interace.j2', 'vios_lldp.j2', 'vios_mgt.j2', 'vios_ssh.j2', 'xrv_bgp.j2', 'xrv_hostname.j2', 'xrv_interface.j2', 'xrv_isis.j2', 'xrv_lldp.j2', 'xrv_mgt.j2', 'xrv_sr.j2', 'xrv_ssh.j2']\n"
     ]
    }
   ],
   "source": [
    "print(env.list_templates())"
   ]
  },
  {
   "cell_type": "code",
   "execution_count": 28,
   "metadata": {},
   "outputs": [],
   "source": [
    "# 加载一个模板文件，\n",
    "hostname = env.get_template(\"xrv_hostname.j2\")"
   ]
  },
  {
   "cell_type": "code",
   "execution_count": 65,
   "metadata": {},
   "outputs": [
    {
     "name": "stdout",
     "output_type": "stream",
     "text": [
      "\n",
      "hostname xrv1\n",
      "\n",
      "\n",
      "commit\n",
      "\n",
      "\n",
      "end\n",
      "\n",
      "\n"
     ]
    }
   ],
   "source": [
    "#  使用变量渲染模板\n",
    "print(hostname.render(hostname=\"xrv1\",commit=True))"
   ]
  },
  {
   "cell_type": "code",
   "execution_count": 66,
   "metadata": {},
   "outputs": [],
   "source": [
    "import yaml"
   ]
  },
  {
   "cell_type": "code",
   "execution_count": 86,
   "metadata": {},
   "outputs": [],
   "source": [
    "interfaces = yaml.load(open(\"./data/xrv1_interfaces.yaml\").read())"
   ]
  },
  {
   "cell_type": "code",
   "execution_count": 87,
   "metadata": {},
   "outputs": [
    {
     "data": {
      "text/plain": [
       "{'commit': True,\n",
       " 'interfaces': [{'ipaddress': '99.1.2.1', 'name': 'Gi0/0/0/0'},\n",
       "  {'ipaddress': '99.1.2.5', 'name': 'Gi0/0/0/1'},\n",
       "  {'ipaddress': '99.1.2.9', 'name': 'Gi0/0/0/2'},\n",
       "  {'ipaddress': '99.1.2.13', 'name': 'Gi0/0/0/3'},\n",
       "  {'ipaddress': '99.1.2.17', 'name': 'Gi0/0/0/4'},\n",
       "  {'ipaddress': '99.1.2.21', 'name': 'Gi0/0/0/5'},\n",
       "  {'ipaddress': '99.1.2.25', 'name': 'Gi0/0/0/6'}]}"
      ]
     },
     "execution_count": 87,
     "metadata": {},
     "output_type": "execute_result"
    }
   ],
   "source": [
    "interfaces"
   ]
  },
  {
   "cell_type": "code",
   "execution_count": 88,
   "metadata": {},
   "outputs": [],
   "source": [
    "interfaces_temp = env.get_template(\"xrv_interfaces.j2\")"
   ]
  },
  {
   "cell_type": "code",
   "execution_count": 89,
   "metadata": {},
   "outputs": [
    {
     "name": "stdout",
     "output_type": "stream",
     "text": [
      "\n",
      "\n",
      "interface Gi0/0/0/0\n",
      "  ipv4 address 99.1.2.1/30\n",
      "  no shutdown\n",
      "\n",
      "interface Gi0/0/0/1\n",
      "  ipv4 address 99.1.2.5/30\n",
      "  no shutdown\n",
      "\n",
      "interface Gi0/0/0/2\n",
      "  ipv4 address 99.1.2.9/30\n",
      "  no shutdown\n",
      "\n",
      "interface Gi0/0/0/3\n",
      "  ipv4 address 99.1.2.13/30\n",
      "  no shutdown\n",
      "\n",
      "interface Gi0/0/0/4\n",
      "  ipv4 address 99.1.2.17/30\n",
      "  no shutdown\n",
      "\n",
      "interface Gi0/0/0/5\n",
      "  ipv4 address 99.1.2.21/30\n",
      "  no shutdown\n",
      "\n",
      "interface Gi0/0/0/6\n",
      "  ipv4 address 99.1.2.25/30\n",
      "  no shutdown\n",
      "\n",
      "\n",
      "\n",
      "commit\n",
      "\n",
      "\n",
      "end\n",
      "\n",
      "\n"
     ]
    }
   ],
   "source": [
    "print(interfaces_temp.render(interfaces))"
   ]
  },
  {
   "cell_type": "code",
   "execution_count": null,
   "metadata": {},
   "outputs": [],
   "source": []
  }
 ],
 "metadata": {
  "kernelspec": {
   "display_name": "Python 3",
   "language": "python",
   "name": "python3"
  },
  "language_info": {
   "codemirror_mode": {
    "name": "ipython",
    "version": 3
   },
   "file_extension": ".py",
   "mimetype": "text/x-python",
   "name": "python",
   "nbconvert_exporter": "python",
   "pygments_lexer": "ipython3",
   "version": "3.5.2"
  }
 },
 "nbformat": 4,
 "nbformat_minor": 2
}
