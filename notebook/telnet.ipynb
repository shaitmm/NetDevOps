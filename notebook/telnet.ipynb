{
 "cells": [
  {
   "cell_type": "code",
   "execution_count": 1,
   "metadata": {},
   "outputs": [],
   "source": [
    "import sys"
   ]
  },
  {
   "cell_type": "code",
   "execution_count": 2,
   "metadata": {},
   "outputs": [],
   "source": [
    "sys.path.append(\"/root/work/lib\")"
   ]
  },
  {
   "cell_type": "code",
   "execution_count": 3,
   "metadata": {},
   "outputs": [
    {
     "data": {
      "text/plain": [
       "['',\n",
       " '/usr/lib/python35.zip',\n",
       " '/usr/lib/python3.5',\n",
       " '/usr/lib/python3.5/plat-x86_64-linux-gnu',\n",
       " '/usr/lib/python3.5/lib-dynload',\n",
       " '/root/py3/lib/python3.5/site-packages',\n",
       " '/root/py3/lib/python3.5/site-packages/IPython/extensions',\n",
       " '/root/.ipython',\n",
       " '/root/work/lib']"
      ]
     },
     "execution_count": 3,
     "metadata": {},
     "output_type": "execute_result"
    }
   ],
   "source": [
    "sys.path"
   ]
  },
  {
   "cell_type": "code",
   "execution_count": 4,
   "metadata": {},
   "outputs": [],
   "source": [
    "from DeviceBase import DeviceBase"
   ]
  },
  {
   "cell_type": "code",
   "execution_count": 5,
   "metadata": {},
   "outputs": [
    {
     "name": "stdout",
     "output_type": "stream",
     "text": [
      "\n",
      "Trying 172.20.0.1...\n",
      "Connected to 172.20.0.1.\n",
      "Escape character is '^]'.\n",
      "\u001b]0;xrv1\u0007\n",
      "\n",
      "IMPORTANT:  READ CAREFULLY\n",
      "Welcome to the Demo Version of Cisco IOS XRv (the \"Software\").\n",
      "The Software is subject to and governed by the terms and conditions\n",
      "of the End User License Agreement and the Supplemental End User\n",
      "License Agreement accompanying the product, made available at the\n",
      "time of your order, or posted on the Cisco website at\n",
      "www.cisco.com/go/terms (collectively, the \"Agreement\").\n",
      "As set forth more fully in the Agreement, use of the Software is\n",
      "strictly limited to internal use in a non-production environment\n",
      "solely for demonstration and evaluation purposes.  Downloading,\n",
      "installing, or using the Software constitutes acceptance of the\n",
      "Agreement, and you are binding yourself and the business entity\n",
      "that you represent to the Agreement.  If you do not agree to all\n",
      "of the terms of the Agreement, then Cisco is unwilling to license\n",
      "the Software to you and (a) you may not download, install or use the\n",
      "Software, and (b) you may return the Software as more fully set forth\n",
      "in the Agreement.\n",
      "\n",
      "\n",
      "User Access Verification\n",
      "\n",
      "Username: yuxin\n",
      "yuxin\n",
      "Password: yuxin123\n",
      "\n",
      "\n",
      "\n",
      "RP/0/0/CPU0:ios#"
     ]
    },
    {
     "data": {
      "text/plain": [
       "[3, '\\r\\n\\r\\n\\r\\nRP/0/0/CPU0:ios', '#']"
      ]
     },
     "execution_count": 5,
     "metadata": {},
     "output_type": "execute_result"
    }
   ],
   "source": [
    "device = {\"hostname\": \"172.20.0.1\",\n",
    "              \"port\":33281,\n",
    "              \"username\": \"yuxin\",\n",
    "              \"password\": \"yuxin123\",\n",
    "              \"connect_type\": \"telnet\",\n",
    "              \"device_type\": \"iosxr\"}\n",
    "d = DeviceBase(device)\n",
    "d.connect()\n",
    "d.login()\n"
   ]
  },
  {
   "cell_type": "code",
   "execution_count": null,
   "metadata": {},
   "outputs": [],
   "source": []
  }
 ],
 "metadata": {
  "kernelspec": {
   "display_name": "Python 3",
   "language": "python",
   "name": "python3"
  },
  "language_info": {
   "codemirror_mode": {
    "name": "ipython",
    "version": 3
   },
   "file_extension": ".py",
   "mimetype": "text/x-python",
   "name": "python",
   "nbconvert_exporter": "python",
   "pygments_lexer": "ipython3",
   "version": "3.5.2"
  },
  "toc": {
   "base_numbering": 1,
   "nav_menu": {},
   "number_sections": true,
   "sideBar": true,
   "skip_h1_title": false,
   "title_cell": "Table of Contents",
   "title_sidebar": "Contents",
   "toc_cell": false,
   "toc_position": {},
   "toc_section_display": true,
   "toc_window_display": false
  },
  "varInspector": {
   "cols": {
    "lenName": 16,
    "lenType": 16,
    "lenVar": 40
   },
   "kernels_config": {
    "python": {
     "delete_cmd_postfix": "",
     "delete_cmd_prefix": "del ",
     "library": "var_list.py",
     "varRefreshCmd": "print(var_dic_list())"
    },
    "r": {
     "delete_cmd_postfix": ") ",
     "delete_cmd_prefix": "rm(",
     "library": "var_list.r",
     "varRefreshCmd": "cat(var_dic_list()) "
    }
   },
   "types_to_exclude": [
    "module",
    "function",
    "builtin_function_or_method",
    "instance",
    "_Feature"
   ],
   "window_display": false
  }
 },
 "nbformat": 4,
 "nbformat_minor": 2
}
