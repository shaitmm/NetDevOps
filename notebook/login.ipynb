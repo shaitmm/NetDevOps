{
 "cells": [
  {
   "cell_type": "code",
   "execution_count": 327,
   "metadata": {},
   "outputs": [],
   "source": [
    "import pexpect\n",
    "from pexpect import EOF, TIMEOUT\n",
    "import sys\n",
    "\n",
    "class DeviceBase(object):\n",
    "\n",
    "    def __init__(self, params):\n",
    "\n",
    "        self.params = params\n",
    "        self.hostname = params.get(\"hostname\",\"\")\n",
    "        self.port = params.get(\"port\", 22)\n",
    "        self.username = params.get(\"username\", \"lab\")\n",
    "        self.password = params.get(\"password\", \"lab\")\n",
    "        self.connect_type = params.get(\"connect_type\", \"ssh\")\n",
    "        self.device_type = params.get(\"device_type\", \"iosxr\")\n",
    "        self.debug = params.get(\"debug\", 0)\n",
    "        self.verbose = params.get(\"verbose\", False)\n",
    "        self.expect_list = []\n",
    "\n",
    "    def _telnet(self):\n",
    "\n",
    "        cmd = \"telnet {hostname} {port}\".format(hostname=self.hostname, port=self.port)\n",
    "        return cmd\n",
    "\n",
    "    def _ssh(self):\n",
    "        ssh = \"ssh {hostname} -l {username} \" \\\n",
    "              \" -p {port} \" \\\n",
    "              \"-o StrictHostKeyChecking=no \" \\\n",
    "              \"-o UserKnownHostsFile=/dev/null\".format(username=self.username,\n",
    "                                                       hostname=self.hostname,\n",
    "                                                       port=self.port)\n",
    "        return ssh\n",
    "\n",
    "    def connect(self, timeout=5):\n",
    "        if self.connect_type.lower() == \"ssh\":\n",
    "            self.c =pexpect.spawn(self._ssh(), encoding=\"utf-8\")\n",
    "\n",
    "        elif self.connect_type.lower() == \"telnet\":\n",
    "            self.c = pexpect.spawn(self._telnet(), encoding=\"utf-8\")\n",
    "        else:\n",
    "            raise (\"connect error\")\n",
    "\n",
    "        self.c.delaybeforesend = 0.05\n",
    "        self.c.timeout = timeout\n",
    "        self.c.logfile = sys.stdout\n",
    "\n",
    "        return self.c\n",
    "\n",
    "    def get_prompt(self):\n",
    "        pass\n",
    "\n",
    "    def send_command(self, cmd, prompt=\"\", timeout=10):\n",
    "        if  prompt:            \n",
    "            self.prompt = prompt\n",
    "        self.c.sendline(cmd)\n",
    "        print(\"sent command %s\" %cmd)\n",
    "        result = []\n",
    "        try:\n",
    "            i = self.c.expect(self.prompt, timeout=timeout)\n",
    "            if i == 0:                \n",
    "                result.append(i)\n",
    "                result.append(str(self.c.before))\n",
    "                result.append(str(self.c.after))\n",
    "        except TIMEOUT:\n",
    "                print(\"connect to %s timeout\" % self.hostname)\n",
    "        except Exception as e:\n",
    "            print(e)\n",
    "            \n",
    "        return result\n",
    "            \n",
    "    def login(self, prompt=r\"[>|#|$]\\s?$\"):\n",
    "        self.expect_list = []\n",
    "        self.expect_list.append(r\"(?i)username[:]?\\s*$\")    # username\n",
    "        self.expect_list.append(r\"(?i)login[:]?\\s*$\")       # login\n",
    "        self.expect_list.append(r\"(?i)password[:]?\\s*$\")    # password\n",
    "        # self.expect_list.append(r\"secret:\\s*$\")           # IOS-XR init config\n",
    "        self.expect_list.append(prompt)\n",
    "        self.c.send(\"\\n\\r\")\n",
    "        for _ in range(0, 3):\n",
    "            result = []\n",
    "\n",
    "            try:\n",
    "                i = self.c.expect(self.expect_list, timeout=5)\n",
    "                result.append(i)\n",
    "                result.append(str(self.c.before))\n",
    "                result.append(str(self.c.after))\n",
    "                if i == 0 or i == 1:\n",
    "                    self.c.sendline(self.username)\n",
    "                elif i == 2:\n",
    "                    self.c.sendline(self.password)\n",
    "                elif i == 3:\n",
    "                    break\n",
    "            except EOF:\n",
    "                break\n",
    "            except TIMEOUT:\n",
    "                print(\"connect to %s timeout\" % self.hostname)\n",
    "                break\n",
    "\n",
    "        if result[0] < 3:\n",
    "            print(result)\n",
    "            print(\"username or password error\")\n",
    "            return result\n",
    "\n",
    "        self.get_prompt()\n",
    "\n",
    "        self._set_terminal_length_zero()\n",
    "        return result\n",
    "\n",
    "    def _set_terminal_length_zero(self):\n",
    "        pass\n",
    "\n",
    "    def logout(self):\n",
    "        if self.c:\n",
    "            self.c.terminate()\n",
    "\n",
    "    def __del__(self):\n",
    "        self.logout()\n"
   ]
  },
  {
   "cell_type": "code",
   "execution_count": 328,
   "metadata": {},
   "outputs": [],
   "source": [
    "class IOSXR(DeviceBase):\n",
    "    \n",
    "    def get_prompt(self):\n",
    "\n",
    "        self.c.sendline()\n",
    "        self.c.expect(r\"#$\")\n",
    "        prompt = str(self.c.before) + str(self.c.after)\n",
    "        prompt = prompt.splitlines()\n",
    "        prompt = prompt[-1]\n",
    "        self.prompt = prompt\n",
    "        return self.prompt\n",
    "\n",
    "    def to_config_mode(self):\n",
    "        r = self.send_command(\"config terminal\",prompt=\"config.*#$\")\n",
    "        print(\"into config mode\")\n",
    "        return r\n",
    "\n",
    "    def send_config(self, cmd,prompt=\"config.*#$\",commit=False):\n",
    "        \n",
    "        prompt = self.get_prompt()\n",
    "        if \"config\" not in prompt:\n",
    "            self.to_config_mode()   \n",
    "        \n",
    "        r = self.send_command(cmd,prompt=\"config.*#$\")\n",
    "        print(\"sent config line %s\" %cmd)\n",
    "        \n",
    "        if commit:\n",
    "            self.send_command(\"commit\")\n",
    "    \n",
    "    def send_configs(self, cmds, prompt=\"config.*#$\", commit=False):\n",
    "        if isinstance(cmds,list):\n",
    "            for cmd in cmds:\n",
    "                self.send_config(cmd,prompt=\"config.*#$\")\n",
    "        elif isinstance(cmds, str):\n",
    "            for cmd in cmds.splitlines():\n",
    "                self.send_config(cmd,prompt)\n",
    "        if commit:\n",
    "            self.send_command(\"commit\")\n",
    "            \n",
    "        \n",
    " \n",
    "    def to_enable(self, prompt=\"\\#$\"):\n",
    "        self.send_command(\"clear\",prompt)\n",
    "        self.send_command(\"end\",prompt)\n",
    "        \n",
    "\n",
    "    def _set_terminal_length_zero(self):\n",
    "        self.c.sendline(\"terminal length 0\")\n",
    "        try:\n",
    "            i = self.c.expect(self.prompt)\n",
    "        except EOF:\n",
    "            pass\n",
    "        except TIMEOUT:\n",
    "            print(\"session timeout\")\n",
    "\n",
    "    def get_config(self):\n",
    "        self.expect_list = []\n",
    "        self.expect_list.append(self.prompt)\n",
    "        print(self.prompt)\n",
    "        result = []\n",
    "        self.c.sendline(\"show running-config\")\n",
    "        try:\n",
    "            i = self.c.expect(self.expect_list, timeout=5)\n",
    "            if i == 0:\n",
    "                result.append(i)\n",
    "                result.append(str(self.c.before))\n",
    "                result.append(str(self.c.after))\n",
    "        except EOF:\n",
    "            pass\n",
    "        except TIMEOUT:\n",
    "            print(\"session timeout\")\n",
    "        return result\n"
   ]
  },
  {
   "cell_type": "code",
   "execution_count": 360,
   "metadata": {},
   "outputs": [
    {
     "name": "stdout",
     "output_type": "stream",
     "text": [
      "\n",
      "Trying 172.20.0.1...\n",
      "Connected to 172.20.0.1.\n",
      "Escape character is '^]'.\n",
      "\u001b]0;xrv1\u0007\n",
      "RP/0/0/CPU0:ios#\n",
      "RP/0/0/CPU0:ios#\n",
      "\n",
      "RP/0/0/CPU0:ios#terminal length 0\n",
      "terminal length 0\n",
      "Wed Jul 18 15:12:18.149 UTC\n",
      "RP/0/0/CPU0:ios#"
     ]
    }
   ],
   "source": [
    "if __name__ == \"__main__\":\n",
    "\n",
    "    device = {\"hostname\": \"172.20.0.1\",\n",
    "              \"port\":33281,\n",
    "              \"username\": \"admin\",\n",
    "              \"password\": \"admin\",\n",
    "              \"connect_type\": \"telnet\",\n",
    "              \"device_type\": \"iosxr\"}\n",
    "    d = IOSXR(device)\n",
    "    d.connect()\n",
    "    d.login()\n",
    "    \n",
    "    \n"
   ]
  },
  {
   "cell_type": "code",
   "execution_count": 358,
   "metadata": {},
   "outputs": [
    {
     "name": "stdout",
     "output_type": "stream",
     "text": [
      "\n",
      "\n",
      "RP/0/0/CPU0:ios(config-if)#"
     ]
    },
    {
     "data": {
      "text/plain": [
       "'RP/0/0/CPU0:ios(config-if)#'"
      ]
     },
     "execution_count": 358,
     "metadata": {},
     "output_type": "execute_result"
    }
   ],
   "source": [
    "d.get_prompt()"
   ]
  },
  {
   "cell_type": "code",
   "execution_count": 361,
   "metadata": {},
   "outputs": [
    {
     "name": "stdout",
     "output_type": "stream",
     "text": [
      "\n",
      "\n",
      "RP/0/0/CPU0:ios#config terminal\n",
      "sent command config terminal\n",
      "config terminal\n",
      "Wed Jul 18 15:12:29.798 UTC\n",
      "RP/0/0/CPU0:ios(config)#into config mode\n",
      "interface gi0/0/0/0\n",
      "sent command interface gi0/0/0/0\n",
      "interface gi0/0/0/0\n",
      "RP/0/0/CPU0:ios(config-if)#sent config line interface gi0/0/0/0\n"
     ]
    }
   ],
   "source": [
    "d.send_config(\"interface gi0/0/0/0\")"
   ]
  },
  {
   "cell_type": "code",
   "execution_count": 363,
   "metadata": {},
   "outputs": [
    {
     "name": "stdout",
     "output_type": "stream",
     "text": [
      "\n",
      "\n",
      "RP/0/0/CPU0:ios(config-if)#ipv4 address 11.1.1.1/30\n",
      "sent command ipv4 address 11.1.1.1/30\n",
      "ipv4 address 11.1.1.1/30\n",
      "RP/0/0/CPU0:ios(config-if)#sent config line ipv4 address 11.1.1.1/30\n",
      "commit\n",
      "sent command commit\n",
      "commit\n",
      "Wed Jul 18 15:12:46.667 UTC\n",
      "RP/0/0/CPU0:ios(config-if)#"
     ]
    }
   ],
   "source": [
    "d.send_config(\"ipv4 address 11.1.1.1/30\")"
   ]
  },
  {
   "cell_type": "code",
   "execution_count": 350,
   "metadata": {},
   "outputs": [
    {
     "data": {
      "text/plain": [
       "'\\\\#$'"
      ]
     },
     "execution_count": 350,
     "metadata": {},
     "output_type": "execute_result"
    }
   ],
   "source": [
    "d.prompt"
   ]
  },
  {
   "cell_type": "code",
   "execution_count": 351,
   "metadata": {},
   "outputs": [
    {
     "name": "stdout",
     "output_type": "stream",
     "text": [
      "show run\n",
      "sent command show run\n",
      "show run\n",
      "Wed Jul 18 15:06:13.354 UTC\n",
      "Building configuration...\n",
      "!! IOS XR Configuration 6.5.1.31I\n",
      "!! Last configuration change at Wed Jul 18 04:21:27 2018 by admin\n",
      "!\n",
      "interface MgmtEth0/0/CPU0/0\n",
      " ipv4 address dhcp\n",
      "!\n",
      "interface GigabitEthernet0/0/0/0\n",
      " shutdown\n",
      "!\n",
      "interface GigabitEthernet0/0/0/1\n",
      " shutdown\n",
      "!\n",
      "interface GigabitEthernet0/0/0/2\n",
      " shutdown\n",
      "!\n",
      "interface GigabitEthernet0/0/0/3\n",
      " shutdown\n",
      "!\n",
      "interface GigabitEthernet0/0/0/4\n",
      " shutdown\n",
      "!\n",
      "interface GigabitEthernet0/0/0/5\n",
      " shutdown\n",
      "!\n",
      "interface GigabitEthernet0/0/0/6\n",
      " shutdown\n",
      "!\n",
      "interface GigabitEthernet0/0/0/7\n",
      " shutdown\n",
      "!\n",
      "interface GigabitEthernet0/0/0/8\n",
      " shutdown\n",
      "!\n",
      "interface GigabitEthernet0/0/0/9\n",
      " shutdown\n",
      "!\n",
      "interface GigabitEthernet0/0/0/10\n",
      " shutdown\n",
      "!\n",
      "ssh server vrf default\n",
      "end\n",
      "\n",
      "RP/0/0/CPU0:ios#"
     ]
    },
    {
     "data": {
      "text/plain": [
       "[0,\n",
       " 'show run\\r\\n\\rWed Jul 18 15:06:13.354 UTC\\r\\nBuilding configuration...\\r\\n!! IOS XR Configuration 6.5.1.31I\\r\\n!! Last configuration change at Wed Jul 18 04:21:27 2018 by admin\\r\\n!\\r\\ninterface MgmtEth0/0/CPU0/0\\r\\n ipv4 address dhcp\\r\\n!\\r\\ninterface GigabitEthernet0/0/0/0\\r\\n shutdown\\r\\n!\\r\\ninterface GigabitEthernet0/0/0/1\\r\\n shutdown\\r\\n!\\r\\ninterface GigabitEthernet0/0/0/2\\r\\n shutdown\\r\\n!\\r\\ninterface GigabitEthernet0/0/0/3\\r\\n shutdown\\r\\n!\\r\\ninterface GigabitEthernet0/0/0/4\\r\\n shutdown\\r\\n!\\r\\ninterface GigabitEthernet0/0/0/5\\r\\n shutdown\\r\\n!\\r\\ninterface GigabitEthernet0/0/0/6\\r\\n shutdown\\r\\n!\\r\\ninterface GigabitEthernet0/0/0/7\\r\\n shutdown\\r\\n!\\r\\ninterface GigabitEthernet0/0/0/8\\r\\n shutdown\\r\\n!\\r\\ninterface GigabitEthernet0/0/0/9\\r\\n shutdown\\r\\n!\\r\\ninterface GigabitEthernet0/0/0/10\\r\\n shutdown\\r\\n!\\r\\nssh server vrf default\\r\\nend\\r\\n\\r\\nRP/0/0/CPU0:ios',\n",
       " '#']"
      ]
     },
     "execution_count": 351,
     "metadata": {},
     "output_type": "execute_result"
    }
   ],
   "source": [
    "d.send_command(\"show run\",timeout=5)"
   ]
  },
  {
   "cell_type": "code",
   "execution_count": 349,
   "metadata": {},
   "outputs": [
    {
     "name": "stdout",
     "output_type": "stream",
     "text": [
      "clear\n",
      "sent command clear\n",
      "clear\n",
      "RP/0/0/CPU0:ios(config)#end\n",
      "sent command end\n",
      "end\n",
      "RP/0/0/CPU0:ios#"
     ]
    }
   ],
   "source": [
    "d.to_enable()"
   ]
  },
  {
   "cell_type": "code",
   "execution_count": null,
   "metadata": {},
   "outputs": [],
   "source": []
  }
 ],
 "metadata": {
  "kernelspec": {
   "display_name": "Python 3",
   "language": "python",
   "name": "python3"
  },
  "language_info": {
   "codemirror_mode": {
    "name": "ipython",
    "version": 3
   },
   "file_extension": ".py",
   "mimetype": "text/x-python",
   "name": "python",
   "nbconvert_exporter": "python",
   "pygments_lexer": "ipython3",
   "version": "3.5.2"
  }
 },
 "nbformat": 4,
 "nbformat_minor": 2
}
