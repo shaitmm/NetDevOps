{
 "cells": [
  {
   "cell_type": "code",
   "execution_count": 1,
   "metadata": {},
   "outputs": [],
   "source": [
    "from jinja2 import Template"
   ]
  },
  {
   "cell_type": "code",
   "execution_count": 38,
   "metadata": {},
   "outputs": [],
   "source": [
    "temp = \"\"\"\n",
    "router bgp {{ as_number }}\n",
    " address-family ipv4 unicast\n",
    " !\n",
    " address-family vpnv4\n",
    " !\n",
    " address-family ipv4 sr-policy\n",
    "\n",
    "{% for neighbor in neighbors %}\n",
    " neighbor {{neighbor.peer_ipaddress}}\n",
    "  remote-as {{ neighbor.remote_as }}\n",
    "  update-source Loopback0\n",
    "  address-family ipv4 unicast\n",
    "  {%if neighbor.rr %}\n",
    "    route-reflector-client\n",
    "  {%endif%}\n",
    "  address-family vpnv4\n",
    "  {%if neighbor.rr  %}\n",
    "    route-reflector-client\n",
    "  {%endif%}\n",
    "  address-family ipv4 sr-policy\n",
    "  {%if neighbor.rr  %}\n",
    "    route-reflector-client\n",
    "  {%endif%}\n",
    "\n",
    "{%endfor%}\n",
    "\n",
    "\"\"\""
   ]
  },
  {
   "cell_type": "code",
   "execution_count": 39,
   "metadata": {},
   "outputs": [],
   "source": [
    "temp_jinja2 = Template(temp)"
   ]
  },
  {
   "cell_type": "code",
   "execution_count": 46,
   "metadata": {},
   "outputs": [],
   "source": [
    "# bgp = {\"as_number\": 100,\n",
    "#       \"neighbors\":[{\"peer_ipaddress\":\"1.1.1.1\", \"remote_as\":100, \"rr\":True},\n",
    "#        {\"peer_ipaddress\":\"1.1.1.2\", \"remote_as\":100}]}\n",
    "\n",
    "import yaml\n",
    "y = '''\n",
    "as_number: 100\n",
    "neighbors:\n",
    " - peer_ipaddress: 1.1.1.1\n",
    "   remote_as: 100\n",
    "   rr: true\n",
    " - peer_ipaddress: 2.2.2.2\n",
    "   remote_as: 100\n",
    "     \n",
    "'''\n",
    "bgp = yaml.load(y)"
   ]
  },
  {
   "cell_type": "code",
   "execution_count": 47,
   "metadata": {},
   "outputs": [],
   "source": [
    "t=temp_jinja2.render(bgp)"
   ]
  },
  {
   "cell_type": "code",
   "execution_count": 48,
   "metadata": {},
   "outputs": [
    {
     "name": "stdout",
     "output_type": "stream",
     "text": [
      "\n",
      "router bgp 100\n",
      " address-family ipv4 unicast\n",
      " !\n",
      " address-family vpnv4\n",
      " !\n",
      " address-family ipv4 sr-policy\n",
      "\n",
      "\n",
      " neighbor 1.1.1.1\n",
      "  remote-as 100\n",
      "  update-source Loopback0\n",
      "  address-family ipv4 unicast\n",
      "  \n",
      "    route-reflector-client\n",
      "  \n",
      "  address-family vpnv4\n",
      "  \n",
      "    route-reflector-client\n",
      "  \n",
      "  address-family ipv4 sr-policy\n",
      "  \n",
      "    route-reflector-client\n",
      "  \n",
      "\n",
      "\n",
      " neighbor 2.2.2.2\n",
      "  remote-as 100\n",
      "  update-source Loopback0\n",
      "  address-family ipv4 unicast\n",
      "  \n",
      "  address-family vpnv4\n",
      "  \n",
      "  address-family ipv4 sr-policy\n",
      "  \n",
      "\n",
      "\n",
      "\n"
     ]
    }
   ],
   "source": [
    "print(t)"
   ]
  },
  {
   "cell_type": "code",
   "execution_count": null,
   "metadata": {},
   "outputs": [],
   "source": []
  }
 ],
 "metadata": {
  "kernelspec": {
   "display_name": "Python 3",
   "language": "python",
   "name": "python3"
  },
  "language_info": {
   "codemirror_mode": {
    "name": "ipython",
    "version": 3
   },
   "file_extension": ".py",
   "mimetype": "text/x-python",
   "name": "python",
   "nbconvert_exporter": "python",
   "pygments_lexer": "ipython3",
   "version": "3.5.2"
  }
 },
 "nbformat": 4,
 "nbformat_minor": 2
}
