{
 "cells": [
  {
   "cell_type": "markdown",
   "metadata": {},
   "source": [
    "# Get LLDP informations"
   ]
  },
  {
   "cell_type": "markdown",
   "metadata": {},
   "source": [
    "### 首先，把case2 中用于登录设备的代码写在一个Device.py中，用于登录设备。\n",
    "Device.py文件位于这个case3目录中。 我们可以打开这个文件查看其内容\n",
    "\n",
    "### 其次，写一个用于IOSXR的类，用于获取设备的lldp信息。\n",
    "在方法 get_lldp中 还有一个function 用于处理 lldp的输出信息为一个格式化后的格式。而非纯文本信息\n",
    "\n",
    "### 最后，使用这个新的class 通过asyncio的方式来获取设备的lldp信息\n",
    "\n",
    "\n"
   ]
  },
  {
   "cell_type": "code",
   "execution_count": 1,
   "metadata": {},
   "outputs": [],
   "source": [
    "\n",
    "from Device import Device\n",
    "from pexpect import EOF, TIMEOUT"
   ]
  },
  {
   "cell_type": "code",
   "execution_count": 4,
   "metadata": {},
   "outputs": [],
   "source": [
    "class IOSXR(Device):\n",
    "    \n",
    "    def __init__(self, device):\n",
    "        super(IOSXR, self).__init__(device)\n",
    "        self.prompt = self.hostname + \"[>|#]\\s?\"\n",
    "\n",
    "    async def login(self, prompt=\"\"):\n",
    "        if not prompt:\n",
    "            prompt = self.prompt\n",
    "        await super(IOSXR, self).login(prompt)\n",
    "\n",
    "    async def _set_terminal_length_zero(self):\n",
    "        self.c.sendline(\"terminal length 0\")\n",
    "        try:\n",
    "            i = await self.c.expect(self.prompt, async_=True)\n",
    "        except EOF:\n",
    "            pass\n",
    "        except TIMEOUT:\n",
    "            print(\"session timeout\")\n",
    "\n",
    "    async def get_lldp(self):\n",
    "        \n",
    "        # parser cli's lldp output. the result is a list.\n",
    "        def _parser_lldp(lldp_lines):\n",
    "            start_flag = 0\n",
    "            lldp_neighbors = []\n",
    "            for line in lldp_lines.splitlines():\n",
    "                line = line.strip()\n",
    "                if \"Device ID\" in line:\n",
    "                    start_flag = 1\n",
    "                    continue\n",
    "                if start_flag == 1 and len(line) == 0:\n",
    "                    break\n",
    "                if start_flag == 1:\n",
    "                    line = line.split()\n",
    "                    lldp_neighbors.append({\"device_id\":line[0],  \n",
    "                                            \"Local_intf\":line[1],\n",
    "                                            \"Port_id\":line[-1]})\n",
    "            return lldp_neighbors\n",
    "        \n",
    "        self.expect_list = []\n",
    "        self.expect_list.append(self.prompt)\n",
    "        result = []\n",
    "        self.c.sendline(\"show lldp neighbors\")\n",
    "        try:\n",
    "            i = await self.c.expect(self.expect_list, timeout=5, async_=True)\n",
    "            if i == 0:\n",
    "                lldp_lines = str(self.c.before, 'utf-8')\n",
    "                result = _parser_lldp(lldp_lines)\n",
    "        except EOF:\n",
    "            pass\n",
    "        except TIMEOUT:\n",
    "            print(\"session timeout\")\n",
    "        return result\n"
   ]
  },
  {
   "cell_type": "markdown",
   "metadata": {},
   "source": [
    "## 在协程中获取返回值\n",
    "### 为了方便的获取每个协程的返回值。我们需要为从每台设备上获取信息的方法创建一个task。最后在task中来获取返回值。\n",
    "\n",
    "创建一个任务（task）\n",
    "```\n",
    "asyncio.ensure_future(get_lldp(xrv1))\n",
    "```\n",
    "\n",
    "然后把这些任务放在一个list中。\n",
    "\n",
    "### 使用event_loop来执行这些tasks\n",
    "\n",
    "```\n",
    "loop = asyncio.new_event_loop()\n",
    "asyncio.set_event_loop(loop)\n",
    "\n",
    "# create a tasks list\n",
    "tasks = []\n",
    "tasks.append(asyncio.ensure_future(get_lldp(xrv1)))\n",
    "\n",
    "loop.run_until_complete(asyncio.wait(tasks))\n",
    "\n",
    "```"
   ]
  },
  {
   "cell_type": "code",
   "execution_count": 16,
   "metadata": {},
   "outputs": [
    {
     "data": {
      "text/plain": [
       "({<Task finished coro=<get_lldp() done, defined at <ipython-input-16-efe5d11fee34>:4> result={'hostname': 'xrv1', 'lldp_info': [{'Local_intf': 'Gi0/0/0/0', 'Port_id': 'Gi0/0/0/0', 'device_id': 'xrv2'}, {'Local_intf': 'Gi0/0/0/1', 'Port_id': 'Gi0/0/0/0', 'device_id': 'xrv3'}, {'Local_intf': 'Gi0/0/0/4', 'Port_id': 'Gi0/0/0/2', 'device_id': 'xrv6'}, {'Local_intf': 'Gi0/0/0/5', 'Port_id': 'Gi0/0/0/2', 'device_id': 'xrv7'}]}>,\n",
       "  <Task finished coro=<get_lldp() done, defined at <ipython-input-16-efe5d11fee34>:4> result={'hostname': 'xrv2', 'lldp_info': [{'Local_intf': 'Gi0/0/0/0', 'Port_id': 'Gi0/0/0/0', 'device_id': 'xrv1'}, {'Local_intf': 'Gi0/0/0/3', 'Port_id': 'Gi0/0/0/1', 'device_id': 'xrv5'}, {'Local_intf': 'Gi0/0/0/4', 'Port_id': 'Gi0/0/0/3', 'device_id': 'xrv6'}, {'Local_intf': 'Gi0/0/0/5', 'Port_id': 'Gi0/0/0/3', 'device_id': 'xrv7'}]}>,\n",
       "  <Task finished coro=<get_lldp() done, defined at <ipython-input-16-efe5d11fee34>:4> result={'hostname': 'xrv3', 'lldp_info': [{'Local_intf': 'Gi0/0/0/0', 'Port_id': 'Gi0/0/0/1', 'device_id': 'xrv1'}, {'Local_intf': 'Gi0/0/0/6', 'Port_id': 'Gi0/0', 'device_id': 'vIOS16.sha-se.cisco.'}, {'Local_intf': 'Gi0/0/0/7', 'Port_id': 'Gi0/1', 'device_id': 'vIOS17.sha-se.cisco.'}]}>,\n",
       "  <Task finished coro=<get_lldp() done, defined at <ipython-input-16-efe5d11fee34>:4> result={'hostname': 'xrv4', 'lldp_info': [{'Local_intf': 'Gi0/0/0/1', 'Port_id': 'Gi0/0/0/2', 'device_id': 'xrv2'}, {'Local_intf': 'Gi0/0/0/6', 'Port_id': 'Gi0/0', 'device_id': 'vIOS17.sha-se.cisco.'}]}>},\n",
       " set())"
      ]
     },
     "execution_count": 16,
     "metadata": {},
     "output_type": "execute_result"
    }
   ],
   "source": [
    "import asyncio\n",
    "\n",
    "\n",
    "async def get_lldp(device):\n",
    "    con = IOSXR(device)\n",
    "    con.connect()\n",
    "    await con.login()\n",
    "    result = await con.get_lldp()\n",
    "#     print(parser_lldp(result[1]))\n",
    "    return {'hostname': con.hostname, 'lldp_info': result}\n",
    "\n",
    "xrv1 = {\"hostname\":\"xrv1\", \n",
    "        \"mgt_ip\":\"172.20.3.101\",\n",
    "        \"username\":\"admin\",\n",
    "        \"password\":\"admin\",\n",
    "        \"port\": 22}\n",
    "\n",
    "xrv2 = {\"hostname\":\"xrv2\", \n",
    "        \"mgt_ip\":\"172.20.3.102\",\n",
    "        \"username\":\"admin\",\n",
    "        \"password\":\"admin\",\n",
    "        \"port\": 22}\n",
    "\n",
    "xrv3 = {\"hostname\":\"xrv3\", \n",
    "        \"mgt_ip\":\"172.20.3.103\",\n",
    "        \"username\":\"admin\",\n",
    "        \"password\":\"admin\",\n",
    "        \"port\": 22}\n",
    "\n",
    "xrv4 = {\"hostname\":\"xrv4\", \n",
    "        \"mgt_ip\":\"172.20.3.104\",\n",
    "        \"username\":\"admin\",\n",
    "        \"password\":\"admin\",\n",
    "        \"port\": 22}\n",
    "\n",
    "loop = asyncio.new_event_loop()\n",
    "asyncio.set_event_loop(loop)\n",
    "\n",
    "tasks = []\n",
    "tasks.append(asyncio.ensure_future(get_lldp(xrv1)))\n",
    "tasks.append(asyncio.ensure_future(get_lldp(xrv2)))\n",
    "tasks.append(asyncio.ensure_future(get_lldp(xrv3)))\n",
    "tasks.append(asyncio.ensure_future(get_lldp(xrv4)))\n",
    "\n",
    "\n",
    "loop.run_until_complete(asyncio.wait(tasks))"
   ]
  },
  {
   "cell_type": "markdown",
   "metadata": {},
   "source": [
    "### 可以从tasks 中获取function返回的值。"
   ]
  },
  {
   "cell_type": "code",
   "execution_count": 15,
   "metadata": {},
   "outputs": [
    {
     "name": "stdout",
     "output_type": "stream",
     "text": [
      "{'lldp_info': [{'Local_intf': 'Gi0/0/0/0', 'Port_id': 'Gi0/0/0/0', 'device_id': 'xrv2'}, {'Local_intf': 'Gi0/0/0/1', 'Port_id': 'Gi0/0/0/0', 'device_id': 'xrv3'}, {'Local_intf': 'Gi0/0/0/4', 'Port_id': 'Gi0/0/0/2', 'device_id': 'xrv6'}, {'Local_intf': 'Gi0/0/0/5', 'Port_id': 'Gi0/0/0/2', 'device_id': 'xrv7'}], 'hostname': 'xrv1'}\n",
      "{'lldp_info': [{'Local_intf': 'Gi0/0/0/0', 'Port_id': 'Gi0/0/0/0', 'device_id': 'xrv1'}, {'Local_intf': 'Gi0/0/0/1', 'Port_id': 'Gi0/0/0/1', 'device_id': 'xrv3'}, {'Local_intf': 'Gi0/0/0/4', 'Port_id': 'Gi0/0/0/3', 'device_id': 'xrv6'}, {'Local_intf': 'Gi0/0/0/5', 'Port_id': 'Gi0/0/0/3', 'device_id': 'xrv7'}], 'hostname': 'xrv2'}\n",
      "{'lldp_info': [{'Local_intf': 'Gi0/0/0/0', 'Port_id': 'Gi0/0/0/1', 'device_id': 'xrv1'}, {'Local_intf': 'Gi0/0/0/6', 'Port_id': 'Gi0/0', 'device_id': 'vIOS16.sha-se.cisco.'}, {'Local_intf': 'Gi0/0/0/7', 'Port_id': 'Gi0/1', 'device_id': 'vIOS17.sha-se.cisco.'}], 'hostname': 'xrv3'}\n",
      "{'lldp_info': [{'Local_intf': 'Gi0/0/0/1', 'Port_id': 'Gi0/0/0/2', 'device_id': 'xrv2'}, {'Local_intf': 'Gi0/0/0/6', 'Port_id': 'Gi0/0', 'device_id': 'vIOS17.sha-se.cisco.'}], 'hostname': 'xrv4'}\n"
     ]
    }
   ],
   "source": [
    "for x in tasks:\n",
    "    print(x.result())"
   ]
  },
  {
   "cell_type": "markdown",
   "metadata": {},
   "source": [
    "# 作业：\n",
    "## 1. 修改 class IOSXR。 适配IOS设备。\n",
    "## 2. 把所有登录信息写在一个yaml文件中，读取文件来登录设备。\n",
    "## 3. 把tasks 中的结果合并到一个字典中。这个字典可以用于后续的路径计算的输入变量。\n"
   ]
  },
  {
   "cell_type": "code",
   "execution_count": null,
   "metadata": {},
   "outputs": [],
   "source": []
  }
 ],
 "metadata": {
  "kernelspec": {
   "display_name": "Python 3",
   "language": "python",
   "name": "python3"
  },
  "language_info": {
   "codemirror_mode": {
    "name": "ipython",
    "version": 3
   },
   "file_extension": ".py",
   "mimetype": "text/x-python",
   "name": "python",
   "nbconvert_exporter": "python",
   "pygments_lexer": "ipython3",
   "version": "3.5.2"
  }
 },
 "nbformat": 4,
 "nbformat_minor": 2
}
