{
 "cells": [
  {
   "cell_type": "markdown",
   "metadata": {},
   "source": [
    "# 用Netconf登录设备并获取 LLDP信息\n",
    "netconf 需要使用新的模块\n",
    "ncclient"
   ]
  },
  {
   "cell_type": "markdown",
   "metadata": {},
   "source": [
    "## 1.0 使用ssh命令来测试netconf。测试设备是否支持netconf协议。\n",
    "命令为：\n",
    "\n",
    "```\n",
    "sshpass -p admin ssh -l admin 172.20.3.101 -p 830 -s netconf\n",
    "```\n",
    "其中172.20.3.101 是设备的IP地址  -p 830 是设备的netconf端口，netconf的默认端口是830，而ssh的默认端口是22.\n",
    "\n",
    "这个命令在linux 命令行中执行。执行完成后，如果设备支持netconf，设备会输出大量的信息，其信息的内容为设备支持的netocnf能力等信息。\n",
    "\n",
    "在jupyter中打开一个terminal 进行测试。\n",
    "\n",
    "\n",
    "在iosxr上需要配置如下命令以支持netconf\n",
    "```\n",
    "ssh server v2\n",
    "ssh server netconf\n",
    "netconf agent tty\n",
    "netconf-yang agent ssh\n",
    "```\n"
   ]
  },
  {
   "cell_type": "markdown",
   "metadata": {},
   "source": [
    "## 2. 0 使用ncclient 测试基本的netconf链接"
   ]
  },
  {
   "cell_type": "code",
   "execution_count": 22,
   "metadata": {},
   "outputs": [
    {
     "data": {
      "text/plain": [
       "<?xml version=\"1.0\"?>\n",
       "<rpc-reply message-id=\"urn:uuid:7005a259-dbf9-4ee5-af59-f39f2610b62e\" xmlns:nc=\"urn:ietf:params:xml:ns:netconf:base:1.0\" xmlns=\"urn:ietf:params:xml:ns:netconf:base:1.0\">\n",
       " <data>\n",
       "  <host-names xmlns=\"http://cisco.com/ns/yang/Cisco-IOS-XR-shellutil-cfg\">\n",
       "   <host-name>xrv1</host-name>\n",
       "  </host-names>\n",
       " </data>\n",
       "</rpc-reply>"
      ]
     },
     "execution_count": 22,
     "metadata": {},
     "output_type": "execute_result"
    }
   ],
   "source": [
    "from ncclient import manager\n",
    "from lxml import etree\n",
    "\n",
    "xrv1={\"host\": \"172.20.3.101\",\n",
    "     \"port\":830,\n",
    "     \"username\":\"admin\",\n",
    "     \"password\":\"admin\",\n",
    "     \"hostkey_verify\":False,\n",
    "     \"device_params\": {\"name\": \"iosxr\"}}\n",
    "\n",
    "\n",
    "hostname = '''\n",
    "<filter xmlns=\"urn:ietf:params:xml:ns:netconf:base:1.0\">\n",
    "  <host-names xmlns=\"http://cisco.com/ns/yang/Cisco-IOS-XR-shellutil-cfg\">\n",
    "  </host-names>\n",
    "</filter>\n",
    "'''\n",
    "\n",
    "\n",
    "nc=manager.connect(**xrv1)\n",
    "nc.get_config(source=\"running\", filter=hostname)"
   ]
  },
  {
   "cell_type": "code",
   "execution_count": 23,
   "metadata": {},
   "outputs": [
    {
     "data": {
      "text/plain": [
       "<?xml version=\"1.0\"?>\n",
       "<rpc-reply message-id=\"urn:uuid:19a18041-5ad5-4458-a2f3-c201b9e19680\" xmlns:nc=\"urn:ietf:params:xml:ns:netconf:base:1.0\" xmlns=\"urn:ietf:params:xml:ns:netconf:base:1.0\">\n",
       " <data>\n",
       "  <lldp xmlns=\"http://cisco.com/ns/yang/Cisco-IOS-XR-ethernet-lldp-oper\">\n",
       "   <nodes>\n",
       "    <node>\n",
       "     <node-name>0/0/CPU0</node-name>\n",
       "     <neighbors>\n",
       "      <devices>\n",
       "       <device>\n",
       "        <device-id>xrv2</device-id>\n",
       "        <interface-name>GigabitEthernet0/0/0/0</interface-name>\n",
       "        <lldp-neighbor>\n",
       "         <receiving-interface-name>GigabitEthernet0/0/0/0</receiving-interface-name>\n",
       "        </lldp-neighbor>\n",
       "       </device>\n",
       "       <device>\n",
       "        <device-id>xrv4</device-id>\n",
       "        <interface-name>GigabitEthernet0/0/0/2</interface-name>\n",
       "        <lldp-neighbor>\n",
       "         <receiving-interface-name>GigabitEthernet0/0/0/2</receiving-interface-name>\n",
       "        </lldp-neighbor>\n",
       "       </device>\n",
       "       <device>\n",
       "        <device-id>xrv6</device-id>\n",
       "        <interface-name>GigabitEthernet0/0/0/4</interface-name>\n",
       "        <lldp-neighbor>\n",
       "         <receiving-interface-name>GigabitEthernet0/0/0/4</receiving-interface-name>\n",
       "        </lldp-neighbor>\n",
       "       </device>\n",
       "       <device>\n",
       "        <device-id>xrv7</device-id>\n",
       "        <interface-name>GigabitEthernet0/0/0/5</interface-name>\n",
       "        <lldp-neighbor>\n",
       "         <receiving-interface-name>GigabitEthernet0/0/0/5</receiving-interface-name>\n",
       "        </lldp-neighbor>\n",
       "       </device>\n",
       "      </devices>\n",
       "     </neighbors>\n",
       "    </node>\n",
       "   </nodes>\n",
       "  </lldp>\n",
       " </data>\n",
       "</rpc-reply>"
      ]
     },
     "execution_count": 23,
     "metadata": {},
     "output_type": "execute_result"
    }
   ],
   "source": [
    "payload = \"\"\"\n",
    "<filter xmlns=\"urn:ietf:params:xml:ns:netconf:base:1.0\">\n",
    "  <lldp xmlns=\"http://cisco.com/ns/yang/Cisco-IOS-XR-ethernet-lldp-oper\">\n",
    "    <nodes>\n",
    "      <node>\n",
    "        <neighbors>\n",
    "          <devices>\n",
    "            <device>\n",
    "              <device-id/>\n",
    "              <interface-name/>\n",
    "              <lldp-neighbor>\n",
    "                <receiving-interface-name/>\n",
    "              </lldp-neighbor>\n",
    "            </device>\n",
    "          </devices>\n",
    "        </neighbors>\n",
    "      </node>\n",
    "    </nodes>\n",
    "  </lldp>\n",
    "</filter>\n",
    "\"\"\"\n",
    "nc=manager.connect(**xrv1)\n",
    "nc.get(payload)"
   ]
  },
  {
   "cell_type": "code",
   "execution_count": null,
   "metadata": {},
   "outputs": [],
   "source": []
  }
 ],
 "metadata": {
  "kernelspec": {
   "display_name": "Python 3",
   "language": "python",
   "name": "python3"
  },
  "language_info": {
   "codemirror_mode": {
    "name": "ipython",
    "version": 3
   },
   "file_extension": ".py",
   "mimetype": "text/x-python",
   "name": "python",
   "nbconvert_exporter": "python",
   "pygments_lexer": "ipython3",
   "version": "3.5.2"
  }
 },
 "nbformat": 4,
 "nbformat_minor": 2
}
