{
 "cells": [
  {
   "cell_type": "markdown",
   "metadata": {},
   "source": [
    "# 用Netconf登录设备并获取 LLDP信息\n",
    "netconf 需要使用新的模块\n",
    "ncclient"
   ]
  },
  {
   "cell_type": "markdown",
   "metadata": {},
   "source": [
    "## 1.0 使用ssh命令来测试netconf。测试设备是否支持netconf协议。\n",
    "命令为：\n",
    "\n",
    "```\n",
    "sshpass -p admin ssh -l admin 172.20.3.101 -p 830 -s netconf\n",
    "```\n",
    "其中172.20.3.101 是设备的IP地址  -p 830 是设备的netconf端口，netconf的默认端口是830，而ssh的默认端口是22.\n",
    "\n",
    "这个命令在linux 命令行中执行。执行完成后，如果设备支持netconf，设备会输出大量的信息，其信息的内容为设备支持的netocnf能力等信息。\n",
    "\n",
    "在jupyter中打开一个terminal 进行测试。\n",
    "\n",
    "\n",
    "在iosxr上需要配置如下命令以支持netconf\n",
    "```\n",
    "ssh server v2\n",
    "ssh server netconf\n",
    "netconf agent tty\n",
    "netconf-yang agent ssh\n",
    "```\n"
   ]
  },
  {
   "cell_type": "markdown",
   "metadata": {},
   "source": [
    "## 2. 0 使用ncclient 测试基本的netconf链接"
   ]
  },
  {
   "cell_type": "code",
   "execution_count": 1,
   "metadata": {},
   "outputs": [
    {
     "data": {
      "text/plain": [
       "<?xml version=\"1.0\"?>\n",
       "<rpc-reply message-id=\"urn:uuid:eaec72dc-130f-4e23-852e-3def0a9ea828\" xmlns:nc=\"urn:ietf:params:xml:ns:netconf:base:1.0\" xmlns=\"urn:ietf:params:xml:ns:netconf:base:1.0\">\n",
       " <data>\n",
       "  <host-names xmlns=\"http://cisco.com/ns/yang/Cisco-IOS-XR-shellutil-cfg\">\n",
       "   <host-name>xrv1</host-name>\n",
       "  </host-names>\n",
       " </data>\n",
       "</rpc-reply>"
      ]
     },
     "execution_count": 1,
     "metadata": {},
     "output_type": "execute_result"
    }
   ],
   "source": [
    "from ncclient import manager\n",
    "from lxml import etree\n",
    "import time\n",
    "\n",
    "xrv1={\"host\": \"172.20.3.101\",\n",
    "     \"port\":830,\n",
    "     \"username\":\"admin\",\n",
    "     \"password\":\"admin\",\n",
    "     \"hostkey_verify\":False,\n",
    "     \"device_params\": {\"name\": \"iosxr\"}}\n",
    "\n",
    "\n",
    "hostname = '''\n",
    "<filter xmlns=\"urn:ietf:params:xml:ns:netconf:base:1.0\">\n",
    "  <host-names xmlns=\"http://cisco.com/ns/yang/Cisco-IOS-XR-shellutil-cfg\">\n",
    "  </host-names>\n",
    "</filter>\n",
    "'''\n",
    "\n",
    "\n",
    "nc=manager.connect(**xrv1)\n",
    "nc.get_config(source=\"running\", filter=hostname)"
   ]
  },
  {
   "cell_type": "code",
   "execution_count": 2,
   "metadata": {},
   "outputs": [],
   "source": [
    "payload = \"\"\"\n",
    "<filter xmlns=\"urn:ietf:params:xml:ns:netconf:base:1.0\">\n",
    "  <lldp xmlns=\"http://cisco.com/ns/yang/Cisco-IOS-XR-ethernet-lldp-oper\">\n",
    "    <nodes>\n",
    "      <node>\n",
    "        <neighbors>\n",
    "          <devices>\n",
    "            <device>\n",
    "              <interface-name/>\n",
    "              <lldp-neighbor>\n",
    "                <device-id/>\n",
    "                <port-id-detail/>\n",
    "              </lldp-neighbor>\n",
    "            </device>\n",
    "          </devices>\n",
    "        </neighbors>\n",
    "      </node>\n",
    "    </nodes>\n",
    "  </lldp>\n",
    "</filter>\n",
    "\"\"\"\n",
    "nc=manager.connect(**xrv1)\n",
    "lldp = nc.get(payload)\n"
   ]
  },
  {
   "cell_type": "markdown",
   "metadata": {},
   "source": [
    "### 2.1 处理xml 文件"
   ]
  },
  {
   "cell_type": "code",
   "execution_count": 3,
   "metadata": {},
   "outputs": [
    {
     "data": {
      "text/plain": [
       "<?xml version=\"1.0\"?>\n",
       "<rpc-reply message-id=\"urn:uuid:66f78dd9-c9a6-453b-a600-e5443f3402a7\" xmlns:nc=\"urn:ietf:params:xml:ns:netconf:base:1.0\" xmlns=\"urn:ietf:params:xml:ns:netconf:base:1.0\">\n",
       " <data>\n",
       "  <lldp xmlns=\"http://cisco.com/ns/yang/Cisco-IOS-XR-ethernet-lldp-oper\">\n",
       "   <nodes>\n",
       "    <node>\n",
       "     <node-name>0/0/CPU0</node-name>\n",
       "     <neighbors>\n",
       "      <devices>\n",
       "       <device>\n",
       "        <device-id>xrv2</device-id>\n",
       "        <interface-name>GigabitEthernet0/0/0/0</interface-name>\n",
       "        <lldp-neighbor>\n",
       "         <device-id>xrv2</device-id>\n",
       "         <port-id-detail>Gi0/0/0/0</port-id-detail>\n",
       "        </lldp-neighbor>\n",
       "       </device>\n",
       "       <device>\n",
       "        <device-id>xrv3</device-id>\n",
       "        <interface-name>GigabitEthernet0/0/0/1</interface-name>\n",
       "        <lldp-neighbor>\n",
       "         <device-id>xrv3</device-id>\n",
       "         <port-id-detail>Gi0/0/0/0</port-id-detail>\n",
       "        </lldp-neighbor>\n",
       "       </device>\n",
       "       <device>\n",
       "        <device-id>xrv6</device-id>\n",
       "        <interface-name>GigabitEthernet0/0/0/4</interface-name>\n",
       "        <lldp-neighbor>\n",
       "         <device-id>xrv6</device-id>\n",
       "         <port-id-detail>Gi0/0/0/2</port-id-detail>\n",
       "        </lldp-neighbor>\n",
       "       </device>\n",
       "       <device>\n",
       "        <device-id>xrv7</device-id>\n",
       "        <interface-name>GigabitEthernet0/0/0/5</interface-name>\n",
       "        <lldp-neighbor>\n",
       "         <device-id>xrv7</device-id>\n",
       "         <port-id-detail>Gi0/0/0/2</port-id-detail>\n",
       "        </lldp-neighbor>\n",
       "       </device>\n",
       "      </devices>\n",
       "     </neighbors>\n",
       "    </node>\n",
       "   </nodes>\n",
       "  </lldp>\n",
       " </data>\n",
       "</rpc-reply>"
      ]
     },
     "execution_count": 3,
     "metadata": {},
     "output_type": "execute_result"
    }
   ],
   "source": [
    "lldp"
   ]
  },
  {
   "cell_type": "code",
   "execution_count": 4,
   "metadata": {},
   "outputs": [
    {
     "data": {
      "text/plain": [
       "[{'local_interface_name': 'GigabitEthernet0/0/0/0',\n",
       "  'peer_device_name': 'xrv2',\n",
       "  'peer_port_id': 'Gi0/0/0/0'},\n",
       " {'local_interface_name': 'GigabitEthernet0/0/0/1',\n",
       "  'peer_device_name': 'xrv3',\n",
       "  'peer_port_id': 'Gi0/0/0/0'},\n",
       " {'local_interface_name': 'GigabitEthernet0/0/0/4',\n",
       "  'peer_device_name': 'xrv6',\n",
       "  'peer_port_id': 'Gi0/0/0/2'},\n",
       " {'local_interface_name': 'GigabitEthernet0/0/0/5',\n",
       "  'peer_device_name': 'xrv7',\n",
       "  'peer_port_id': 'Gi0/0/0/2'}]"
      ]
     },
     "execution_count": 4,
     "metadata": {},
     "output_type": "execute_result"
    }
   ],
   "source": [
    "def get_lldp(device):\n",
    "    \n",
    "    nc=manager.connect(**device)\n",
    "    lldp = nc.get(payload)\n",
    "    \n",
    "    lldp_data = lldp.data\n",
    "\n",
    "    NS = {\"lldp\": \"http://cisco.com/ns/yang/Cisco-IOS-XR-ethernet-lldp-oper\" }\n",
    "\n",
    "    lldp_peers = []\n",
    "\n",
    "    for device in lldp_data.xpath(\"//lldp:device\", namespaces = NS):\n",
    "\n",
    "        peer_device_name = device.xpath(\"./lldp:device-id\", namespaces = NS)[0].text\n",
    "        local_interface_name = device.xpath(\"./lldp:interface-name\", namespaces = NS)[0].text\n",
    "        peer_port_id = device.xpath(\"./lldp:lldp-neighbor/lldp:port-id-detail\", namespaces = NS)[0].text\n",
    "        \n",
    "        lldp_peers.append({\"peer_device_name\": peer_device_name,\n",
    "                          \"local_interface_name\": local_interface_name,\n",
    "                           \"peer_port_id\":peer_port_id})\n",
    "   \n",
    "    return lldp_peers\n",
    "\n",
    "get_lldp(xrv1)"
   ]
  },
  {
   "cell_type": "markdown",
   "metadata": {},
   "source": [
    "## 3.0 获取设备的LLDP 信息"
   ]
  },
  {
   "cell_type": "markdown",
   "metadata": {},
   "source": [
    "### 3.1 load yaml file "
   ]
  },
  {
   "cell_type": "code",
   "execution_count": 5,
   "metadata": {},
   "outputs": [],
   "source": [
    "import yaml\n",
    "Devices_list = \"devices.yaml\"\n",
    "\n",
    "devices = yaml.load(open(Devices_list).read())"
   ]
  },
  {
   "cell_type": "code",
   "execution_count": 6,
   "metadata": {},
   "outputs": [
    {
     "data": {
      "text/plain": [
       "{'devices': [{'host': '172.20.3.101', 'name': 'xrv1'},\n",
       "  {'host': '172.20.3.102', 'name': 'xrv2'},\n",
       "  {'host': '172.20.3.103', 'name': 'xrv3'},\n",
       "  {'host': '172.20.3.104', 'name': 'xrv4'},\n",
       "  {'host': '172.20.3.105', 'name': 'xrv5'},\n",
       "  {'host': '172.20.3.106', 'name': 'xrv6'},\n",
       "  {'host': '172.20.3.107', 'name': 'xrv7'},\n",
       "  {'host': '172.20.3.108', 'name': 'xrv8'},\n",
       "  {'host': '172.20.3.109', 'name': 'xrv9'},\n",
       "  {'host': '172.20.3.110', 'name': 'xrv10'},\n",
       "  {'host': '172.20.3.111', 'name': 'xrv11'},\n",
       "  {'host': '172.20.3.112', 'name': 'xrv12'},\n",
       "  {'host': '172.20.3.113', 'name': 'xrv13'},\n",
       "  {'host': '172.20.3.114', 'name': 'xrv14'},\n",
       "  {'host': '172.20.3.115', 'name': 'xrv15'}]}"
      ]
     },
     "execution_count": 6,
     "metadata": {},
     "output_type": "execute_result"
    }
   ],
   "source": [
    "devices"
   ]
  },
  {
   "cell_type": "markdown",
   "metadata": {},
   "source": [
    "### 3.2 登录设备并获取信息"
   ]
  },
  {
   "cell_type": "code",
   "execution_count": 14,
   "metadata": {},
   "outputs": [
    {
     "name": "stdout",
     "output_type": "stream",
     "text": [
      "[{'peer_device_name': 'xrv2', 'peer_port_id': 'Gi0/0/0/0', 'local_interface_name': 'GigabitEthernet0/0/0/0'}, {'peer_device_name': 'xrv3', 'peer_port_id': 'Gi0/0/0/0', 'local_interface_name': 'GigabitEthernet0/0/0/1'}, {'peer_device_name': 'xrv6', 'peer_port_id': 'Gi0/0/0/2', 'local_interface_name': 'GigabitEthernet0/0/0/4'}, {'peer_device_name': 'xrv7', 'peer_port_id': 'Gi0/0/0/2', 'local_interface_name': 'GigabitEthernet0/0/0/5'}]\n",
      "[{'peer_device_name': 'xrv1', 'peer_port_id': 'Gi0/0/0/0', 'local_interface_name': 'GigabitEthernet0/0/0/0'}, {'peer_device_name': 'xrv3', 'peer_port_id': 'Gi0/0/0/1', 'local_interface_name': 'GigabitEthernet0/0/0/1'}, {'peer_device_name': 'xrv6', 'peer_port_id': 'Gi0/0/0/3', 'local_interface_name': 'GigabitEthernet0/0/0/4'}, {'peer_device_name': 'xrv7', 'peer_port_id': 'Gi0/0/0/3', 'local_interface_name': 'GigabitEthernet0/0/0/5'}]\n",
      "[{'peer_device_name': 'xrv1', 'peer_port_id': 'Gi0/0/0/1', 'local_interface_name': 'GigabitEthernet0/0/0/0'}, {'peer_device_name': 'vIOS16.sha-se.cisco.com', 'peer_port_id': 'Gi0/0', 'local_interface_name': 'GigabitEthernet0/0/0/6'}, {'peer_device_name': 'vIOS17.sha-se.cisco.com', 'peer_port_id': 'Gi0/1', 'local_interface_name': 'GigabitEthernet0/0/0/7'}]\n",
      "[{'peer_device_name': 'xrv1', 'peer_port_id': 'Gi0/0/0/2', 'local_interface_name': 'GigabitEthernet0/0/0/0'}, {'peer_device_name': 'vIOS17.sha-se.cisco.com', 'peer_port_id': 'Gi0/0', 'local_interface_name': 'GigabitEthernet0/0/0/6'}]\n",
      "[{'peer_device_name': 'xrv1', 'peer_port_id': 'Gi0/0/0/3', 'local_interface_name': 'GigabitEthernet0/0/0/0'}, {'peer_device_name': 'vIOS18.sha-se.cisco.com', 'peer_port_id': 'Gi0/0', 'local_interface_name': 'GigabitEthernet0/0/0/6'}, {'peer_device_name': 'vIOS17.sha-se.cisco.com', 'peer_port_id': 'Gi0/2', 'local_interface_name': 'GigabitEthernet0/0/0/7'}]\n",
      "[{'peer_device_name': 'xrv7', 'peer_port_id': 'Gi0/0/0/0', 'local_interface_name': 'GigabitEthernet0/0/0/0'}, {'peer_device_name': 'xrv8', 'peer_port_id': 'Gi0/0/0/1', 'local_interface_name': 'GigabitEthernet0/0/0/1'}, {'peer_device_name': 'xrv2', 'peer_port_id': 'Gi0/0/0/4', 'local_interface_name': 'GigabitEthernet0/0/0/3'}, {'peer_device_name': 'xrv14', 'peer_port_id': 'Gi0/0/0/0', 'local_interface_name': 'GigabitEthernet0/0/0/4'}]\n",
      "[{'peer_device_name': 'xrv6', 'peer_port_id': 'Gi0/0/0/0', 'local_interface_name': 'GigabitEthernet0/0/0/0'}, {'peer_device_name': 'xrv9', 'peer_port_id': 'Gi0/0/0/1', 'local_interface_name': 'GigabitEthernet0/0/0/1'}, {'peer_device_name': 'xrv1', 'peer_port_id': 'Gi0/0/0/5', 'local_interface_name': 'GigabitEthernet0/0/0/2'}]\n",
      "[{'peer_device_name': 'xrv9', 'peer_port_id': 'Gi0/0/0/0', 'local_interface_name': 'GigabitEthernet0/0/0/0'}, {'peer_device_name': 'xrv6', 'peer_port_id': 'Gi0/0/0/1', 'local_interface_name': 'GigabitEthernet0/0/0/1'}, {'peer_device_name': 'xrv10', 'peer_port_id': 'Gi0/0/0/2', 'local_interface_name': 'GigabitEthernet0/0/0/2'}]\n",
      "[{'peer_device_name': 'xrv8', 'peer_port_id': 'Gi0/0/0/0', 'local_interface_name': 'GigabitEthernet0/0/0/0'}, {'peer_device_name': 'xrv7', 'peer_port_id': 'Gi0/0/0/1', 'local_interface_name': 'GigabitEthernet0/0/0/1'}, {'peer_device_name': 'xrv11', 'peer_port_id': 'Gi0/0/0/2', 'local_interface_name': 'GigabitEthernet0/0/0/2'}]\n",
      "[{'peer_device_name': 'xrv11', 'peer_port_id': 'Gi0/0/0/0', 'local_interface_name': 'GigabitEthernet0/0/0/0'}, {'peer_device_name': 'xrv8', 'peer_port_id': 'Gi0/0/0/2', 'local_interface_name': 'GigabitEthernet0/0/0/2'}]\n",
      "[{'peer_device_name': 'xrv10', 'peer_port_id': 'Gi0/0/0/0', 'local_interface_name': 'GigabitEthernet0/0/0/0'}, {'peer_device_name': 'xrv13', 'peer_port_id': 'Gi0/0/0/0', 'local_interface_name': 'GigabitEthernet0/0/0/1'}, {'peer_device_name': 'xrv9', 'peer_port_id': 'Gi0/0/0/2', 'local_interface_name': 'GigabitEthernet0/0/0/2'}]\n",
      "[{'peer_device_name': 'xrv10', 'peer_port_id': 'Gi0/0/0/1', 'local_interface_name': 'GigabitEthernet0/0/0/0'}, {'peer_device_name': 'xrv13', 'peer_port_id': 'Gi0/0/0/1', 'local_interface_name': 'GigabitEthernet0/0/0/1'}, {'peer_device_name': 'vIOS19.sha-se.cisco.com', 'peer_port_id': 'Gi0/0', 'local_interface_name': 'GigabitEthernet0/0/0/6'}, {'peer_device_name': 'vIOS20.sha-se.cisco.com', 'peer_port_id': 'Gi0/0', 'local_interface_name': 'GigabitEthernet0/0/0/7'}]\n",
      "[{'peer_device_name': 'xrv11', 'peer_port_id': 'Gi0/0/0/1', 'local_interface_name': 'GigabitEthernet0/0/0/0'}, {'peer_device_name': 'vIOS21.sha-se.cisco.com', 'peer_port_id': 'Gi0/0', 'local_interface_name': 'GigabitEthernet0/0/0/6'}, {'peer_device_name': 'vIOS20.sha-se.cisco.com', 'peer_port_id': 'Gi0/1', 'local_interface_name': 'GigabitEthernet0/0/0/7'}]\n",
      "[{'peer_device_name': 'xrv6', 'peer_port_id': 'Gi0/0/0/4', 'local_interface_name': 'GigabitEthernet0/0/0/0'}]\n",
      "[{'peer_device_name': 'xrv8', 'peer_port_id': 'Gi0/0/0/3', 'local_interface_name': 'GigabitEthernet0/0/0/0'}]\n",
      "8.129438400268555\n"
     ]
    }
   ],
   "source": [
    "start = time.time()\n",
    "\n",
    "login_params = {\n",
    "    \"username\": \"admin\",\n",
    "    \"password\":\"admin\",\n",
    "    \"port\":830,\n",
    "    \"hostkey_verify\":False,\n",
    "    \"device_params\": {\"name\": \"iosxr\"}}\n",
    "\n",
    "for device in devices.get(\"devices\"):\n",
    "    hostname = device.get(\"name\")\n",
    "    if hostname:\n",
    "        del device[\"name\"]\n",
    "    device.update(login_params)\n",
    "    print(get_lldp(device))\n",
    "    \n",
    "print(time.time()-start)    \n",
    "    "
   ]
  },
  {
   "cell_type": "markdown",
   "metadata": {},
   "source": [
    "### 3.3 多进程获取信息"
   ]
  },
  {
   "cell_type": "code",
   "execution_count": 7,
   "metadata": {},
   "outputs": [],
   "source": []
  },
  {
   "cell_type": "code",
   "execution_count": 16,
   "metadata": {},
   "outputs": [
    {
     "name": "stdout",
     "output_type": "stream",
     "text": [
      "0.9778459072113037\n",
      "[{'peer_port_id': 'Gi0/0/0/0', 'peer_device_name': 'xrv2', 'local_interface_name': 'GigabitEthernet0/0/0/0'}, {'peer_port_id': 'Gi0/0/0/0', 'peer_device_name': 'xrv4', 'local_interface_name': 'GigabitEthernet0/0/0/2'}, {'peer_port_id': 'Gi0/0/0/2', 'peer_device_name': 'xrv6', 'local_interface_name': 'GigabitEthernet0/0/0/4'}, {'peer_port_id': 'Gi0/0/0/2', 'peer_device_name': 'xrv7', 'local_interface_name': 'GigabitEthernet0/0/0/5'}]\n",
      "[{'peer_port_id': 'Gi0/0/0/0', 'peer_device_name': 'xrv1', 'local_interface_name': 'GigabitEthernet0/0/0/0'}, {'peer_port_id': 'Gi0/0/0/1', 'peer_device_name': 'xrv4', 'local_interface_name': 'GigabitEthernet0/0/0/2'}, {'peer_port_id': 'Gi0/0/0/3', 'peer_device_name': 'xrv6', 'local_interface_name': 'GigabitEthernet0/0/0/4'}, {'peer_port_id': 'Gi0/0/0/3', 'peer_device_name': 'xrv7', 'local_interface_name': 'GigabitEthernet0/0/0/5'}]\n",
      "[{'peer_port_id': 'Gi0/0/0/1', 'peer_device_name': 'xrv1', 'local_interface_name': 'GigabitEthernet0/0/0/0'}, {'peer_port_id': 'Gi0/0', 'peer_device_name': 'vIOS16.sha-se.cisco.com', 'local_interface_name': 'GigabitEthernet0/0/0/6'}, {'peer_port_id': 'Gi0/1', 'peer_device_name': 'vIOS17.sha-se.cisco.com', 'local_interface_name': 'GigabitEthernet0/0/0/7'}]\n",
      "[{'peer_port_id': 'Gi0/0/0/2', 'peer_device_name': 'xrv1', 'local_interface_name': 'GigabitEthernet0/0/0/0'}, {'peer_port_id': 'Gi0/0', 'peer_device_name': 'vIOS17.sha-se.cisco.com', 'local_interface_name': 'GigabitEthernet0/0/0/6'}]\n",
      "[{'peer_port_id': 'Gi0/0/0/3', 'peer_device_name': 'xrv1', 'local_interface_name': 'GigabitEthernet0/0/0/0'}, {'peer_port_id': 'Gi0/0', 'peer_device_name': 'vIOS18.sha-se.cisco.com', 'local_interface_name': 'GigabitEthernet0/0/0/6'}, {'peer_port_id': 'Gi0/2', 'peer_device_name': 'vIOS17.sha-se.cisco.com', 'local_interface_name': 'GigabitEthernet0/0/0/7'}]\n",
      "[{'peer_port_id': 'Gi0/0/0/0', 'peer_device_name': 'xrv7', 'local_interface_name': 'GigabitEthernet0/0/0/0'}, {'peer_port_id': 'Gi0/0/0/1', 'peer_device_name': 'xrv8', 'local_interface_name': 'GigabitEthernet0/0/0/1'}, {'peer_port_id': 'Gi0/0/0/4', 'peer_device_name': 'xrv2', 'local_interface_name': 'GigabitEthernet0/0/0/3'}, {'peer_port_id': 'Gi0/0/0/0', 'peer_device_name': 'xrv14', 'local_interface_name': 'GigabitEthernet0/0/0/4'}]\n",
      "[{'peer_port_id': 'Gi0/0/0/0', 'peer_device_name': 'xrv6', 'local_interface_name': 'GigabitEthernet0/0/0/0'}, {'peer_port_id': 'Gi0/0/0/1', 'peer_device_name': 'xrv9', 'local_interface_name': 'GigabitEthernet0/0/0/1'}, {'peer_port_id': 'Gi0/0/0/5', 'peer_device_name': 'xrv1', 'local_interface_name': 'GigabitEthernet0/0/0/2'}]\n",
      "[{'peer_port_id': 'Gi0/0/0/0', 'peer_device_name': 'xrv9', 'local_interface_name': 'GigabitEthernet0/0/0/0'}, {'peer_port_id': 'Gi0/0/0/1', 'peer_device_name': 'xrv6', 'local_interface_name': 'GigabitEthernet0/0/0/1'}, {'peer_port_id': 'Gi0/0/0/2', 'peer_device_name': 'xrv10', 'local_interface_name': 'GigabitEthernet0/0/0/2'}]\n",
      "[{'peer_port_id': 'Gi0/0/0/0', 'peer_device_name': 'xrv8', 'local_interface_name': 'GigabitEthernet0/0/0/0'}, {'peer_port_id': 'Gi0/0/0/1', 'peer_device_name': 'xrv7', 'local_interface_name': 'GigabitEthernet0/0/0/1'}, {'peer_port_id': 'Gi0/0/0/2', 'peer_device_name': 'xrv11', 'local_interface_name': 'GigabitEthernet0/0/0/2'}]\n",
      "[{'peer_port_id': 'Gi0/0/0/0', 'peer_device_name': 'xrv11', 'local_interface_name': 'GigabitEthernet0/0/0/0'}, {'peer_port_id': 'Gi0/0/0/2', 'peer_device_name': 'xrv8', 'local_interface_name': 'GigabitEthernet0/0/0/2'}]\n",
      "[{'peer_port_id': 'Gi0/0/0/0', 'peer_device_name': 'xrv10', 'local_interface_name': 'GigabitEthernet0/0/0/0'}, {'peer_port_id': 'Gi0/0/0/0', 'peer_device_name': 'xrv13', 'local_interface_name': 'GigabitEthernet0/0/0/1'}, {'peer_port_id': 'Gi0/0/0/2', 'peer_device_name': 'xrv9', 'local_interface_name': 'GigabitEthernet0/0/0/2'}]\n",
      "[{'peer_port_id': 'Gi0/0/0/1', 'peer_device_name': 'xrv10', 'local_interface_name': 'GigabitEthernet0/0/0/0'}, {'peer_port_id': 'Gi0/0/0/1', 'peer_device_name': 'xrv13', 'local_interface_name': 'GigabitEthernet0/0/0/1'}, {'peer_port_id': 'Gi0/0', 'peer_device_name': 'vIOS19.sha-se.cisco.com', 'local_interface_name': 'GigabitEthernet0/0/0/6'}, {'peer_port_id': 'Gi0/0', 'peer_device_name': 'vIOS20.sha-se.cisco.com', 'local_interface_name': 'GigabitEthernet0/0/0/7'}]\n",
      "[{'peer_port_id': 'Gi0/0/0/1', 'peer_device_name': 'xrv11', 'local_interface_name': 'GigabitEthernet0/0/0/0'}, {'peer_port_id': 'Gi0/0', 'peer_device_name': 'vIOS21.sha-se.cisco.com', 'local_interface_name': 'GigabitEthernet0/0/0/6'}, {'peer_port_id': 'Gi0/1', 'peer_device_name': 'vIOS20.sha-se.cisco.com', 'local_interface_name': 'GigabitEthernet0/0/0/7'}]\n",
      "[{'peer_port_id': 'Gi0/0/0/4', 'peer_device_name': 'xrv6', 'local_interface_name': 'GigabitEthernet0/0/0/0'}]\n",
      "[{'peer_port_id': 'Gi0/0/0/3', 'peer_device_name': 'xrv8', 'local_interface_name': 'GigabitEthernet0/0/0/0'}]\n"
     ]
    }
   ],
   "source": [
    "from threading import Thread\n",
    "\n",
    "\n",
    "class MyThread(Thread):\n",
    "\n",
    "    def __init__(self, func, args=()):\n",
    "        super(MyThread, self).__init__()\n",
    "        self.func = func\n",
    "        self.args = args\n",
    "\n",
    "    def run(self):\n",
    "        self.result = self.func(*self.args)\n",
    "\n",
    "    def get_result(self):\n",
    "        try:\n",
    "            return self.result\n",
    "        except Excetption:\n",
    "            return None\n",
    "\n",
    "\n",
    "start = time.time()\n",
    "\n",
    "login_params = {\n",
    "    \"username\": \"admin\",\n",
    "    \"password\":\"admin\",\n",
    "    \"port\":830,\n",
    "    \"hostkey_verify\":False,\n",
    "    \"device_params\": {\"name\": \"iosxr\"}}\n",
    "\n",
    "\n",
    "tasks = []\n",
    "for device in devices.get(\"devices\"):\n",
    "    hostname = device.get(\"name\")\n",
    "    if hostname:\n",
    "        del device[\"name\"]\n",
    "    device.update(login_params)\n",
    "    task = MyThread(get_lldp, (device,))\n",
    "    task.start()\n",
    "    tasks.append(task)\n",
    "\n",
    "for task in tasks:\n",
    "    results.append(task.join())\n",
    "print(time.time()-start)    \n",
    "\n",
    "for task in tasks:\n",
    "    print(task.get_result())\n"
   ]
  },
  {
   "cell_type": "code",
   "execution_count": null,
   "metadata": {},
   "outputs": [],
   "source": []
  }
 ],
 "metadata": {
  "kernelspec": {
   "display_name": "Python 3",
   "language": "python",
   "name": "python3"
  },
  "language_info": {
   "codemirror_mode": {
    "name": "ipython",
    "version": 3
   },
   "file_extension": ".py",
   "mimetype": "text/x-python",
   "name": "python",
   "nbconvert_exporter": "python",
   "pygments_lexer": "ipython3",
   "version": "3.5.2"
  }
 },
 "nbformat": 4,
 "nbformat_minor": 2
}
